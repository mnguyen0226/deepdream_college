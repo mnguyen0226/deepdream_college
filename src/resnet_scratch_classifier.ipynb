{
 "cells": [
  {
   "cell_type": "markdown",
   "id": "b918260c",
   "metadata": {},
   "source": [
    "# ResNet on MIT Indoor Scene Recognition \n",
    "- Save all import package: Pytorch, Python version\n",
    "- DeepDream Play Ground\n",
    "- Pretrain ResNet:\n",
    "    - Load and Test on Local Machine \n",
    "    - Apply Deep Dream on Pretrain ResNet\n",
    "- Train ResNet From Scratch Ben Trevett\n",
    "    - Load and Test on Local Machine\n",
    "    - Apply Deep Dream \n",
    "    - Make Gif, Video\n",
    "- Make application\n",
    "- Write Report: Compare result on pretrained ImageNet, MIT, Place365. If have time, train the Inception V3,..."
   ]
  },
  {
   "cell_type": "code",
   "execution_count": null,
   "id": "adb265dd",
   "metadata": {},
   "outputs": [],
   "source": []
  }
 ],
 "metadata": {
  "kernelspec": {
   "display_name": "dd3",
   "language": "python",
   "name": "dd3"
  },
  "language_info": {
   "codemirror_mode": {
    "name": "ipython",
    "version": 3
   },
   "file_extension": ".py",
   "mimetype": "text/x-python",
   "name": "python",
   "nbconvert_exporter": "python",
   "pygments_lexer": "ipython3",
   "version": "3.7.12"
  }
 },
 "nbformat": 4,
 "nbformat_minor": 5
}
